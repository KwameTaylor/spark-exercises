{
 "cells": [
  {
   "cell_type": "markdown",
   "metadata": {},
   "source": [
    "# Spark Data Acquisition\n",
    "### Kwame V. Taylor"
   ]
  },
  {
   "cell_type": "markdown",
   "metadata": {},
   "source": [
    "This exercises uses the ```case.csv```, ```dept.csv```, and ```source.csv``` files from the San Antonio 311 call dataset.\n",
    "\n",
    "### Exercises\n",
    "\n",
    "1. Read the case, department, and source data into their own spark dataframes.\n",
    "\n",
    "\n",
    "2. Let's see how writing to the local disk works in spark:\n",
    "   * Write the code necessary to store the source data in both csv and json format, store these as ```sources_csv``` and ```sources_json```.\n",
    "   * Inspect your folder structure. What do you notice?\n",
    "\n",
    "\n",
    "3. Inspect the data in your dataframes. Are the data types appropriate? Write the code necessary to cast the values to the appropriate types."
   ]
  },
  {
   "cell_type": "markdown",
   "metadata": {},
   "source": [
    "**Imports**"
   ]
  },
  {
   "cell_type": "code",
   "execution_count": 1,
   "metadata": {},
   "outputs": [],
   "source": [
    "from pyspark.sql import SparkSession\n",
    "from pyspark.sql.functions import *\n",
    "\n",
    "spark = SparkSession.builder.getOrCreate()"
   ]
  },
  {
   "cell_type": "markdown",
   "metadata": {},
   "source": [
    "### Acquire data"
   ]
  },
  {
   "cell_type": "code",
   "execution_count": 2,
   "metadata": {},
   "outputs": [],
   "source": [
    "source = spark.read.csv(\"source.csv\", sep=\",\", header=True, inferSchema=True)\n",
    "dept = spark.read.csv(\"dept.csv\", sep=\",\", header=True, inferSchema=True)\n",
    "case = spark.read.csv(\"case.csv\", sep=\",\", header=True, inferSchema=True)"
   ]
  },
  {
   "cell_type": "markdown",
   "metadata": {},
   "source": [
    "**Write data to disk**"
   ]
  },
  {
   "cell_type": "code",
   "execution_count": 3,
   "metadata": {},
   "outputs": [],
   "source": [
    "source.write.csv(\"sources_csv\", mode=\"overwrite\")"
   ]
  },
  {
   "cell_type": "code",
   "execution_count": 4,
   "metadata": {},
   "outputs": [],
   "source": [
    "source.write.json(\"sources_json\", mode=\"overwrite\")"
   ]
  },
  {
   "cell_type": "markdown",
   "metadata": {},
   "source": [
    "I wrote this to the main (spark-exercises/) folder and got rid of the data/ folder. I prefer to have shorter file names over having my data in a folder.\n",
    "\n",
    "```sources_csv``` is a folder containing these files:\n",
    "* ```_SUCCESS```\n",
    "* ```part-00000-10e448c2-f9f9-4610-8f8b-b98d2966fe59-c000.csv```\n",
    "\n",
    "```sources_json``` is a folder containing these files:\n",
    "* ```_SUCCESS```\n",
    "* ```part-00000-2524418d-6636-414c-8962-06b2b3817975-c000.json```"
   ]
  },
  {
   "cell_type": "markdown",
   "metadata": {},
   "source": [
    "**Inspect schemas and data types**"
   ]
  },
  {
   "cell_type": "code",
   "execution_count": 5,
   "metadata": {},
   "outputs": [
    {
     "name": "stdout",
     "output_type": "stream",
     "text": [
      "root\n",
      " |-- source_id: string (nullable = true)\n",
      " |-- source_username: string (nullable = true)\n",
      "\n",
      "+---------+----------------+\n",
      "|source_id| source_username|\n",
      "+---------+----------------+\n",
      "|   100137|Merlene Blodgett|\n",
      "|   103582|     Carmen Cura|\n",
      "|   106463| Richard Sanchez|\n",
      "|   119403|  Betty De Hoyos|\n",
      "|   119555|  Socorro Quiara|\n",
      "+---------+----------------+\n",
      "only showing top 5 rows\n",
      "\n"
     ]
    }
   ],
   "source": [
    "source.printSchema()\n",
    "source.show(5)"
   ]
  },
  {
   "cell_type": "markdown",
   "metadata": {},
   "source": [
    "Both fields are strings. This is how I want the data, so I will leave it."
   ]
  },
  {
   "cell_type": "code",
   "execution_count": 6,
   "metadata": {},
   "outputs": [
    {
     "name": "stdout",
     "output_type": "stream",
     "text": [
      "root\n",
      " |-- dept_division: string (nullable = true)\n",
      " |-- dept_name: string (nullable = true)\n",
      " |-- standardized_dept_name: string (nullable = true)\n",
      " |-- dept_subject_to_SLA: string (nullable = true)\n",
      "\n",
      "+--------------------+--------------------+----------------------+-------------------+\n",
      "|       dept_division|           dept_name|standardized_dept_name|dept_subject_to_SLA|\n",
      "+--------------------+--------------------+----------------------+-------------------+\n",
      "|     311 Call Center|    Customer Service|      Customer Service|                YES|\n",
      "|               Brush|Solid Waste Manag...|           Solid Waste|                YES|\n",
      "|     Clean and Green|Parks and Recreation|    Parks & Recreation|                YES|\n",
      "|Clean and Green N...|Parks and Recreation|    Parks & Recreation|                YES|\n",
      "|    Code Enforcement|Code Enforcement ...|  DSD/Code Enforcement|                YES|\n",
      "+--------------------+--------------------+----------------------+-------------------+\n",
      "only showing top 5 rows\n",
      "\n"
     ]
    }
   ],
   "source": [
    "dept.printSchema()\n",
    "dept.show(5)"
   ]
  },
  {
   "cell_type": "markdown",
   "metadata": {},
   "source": [
    "```dept_subject_to_SLA``` needs to be converted into a boolean."
   ]
  },
  {
   "cell_type": "code",
   "execution_count": 7,
   "metadata": {
    "scrolled": false
   },
   "outputs": [
    {
     "name": "stdout",
     "output_type": "stream",
     "text": [
      "root\n",
      " |-- case_id: integer (nullable = true)\n",
      " |-- case_opened_date: string (nullable = true)\n",
      " |-- case_closed_date: string (nullable = true)\n",
      " |-- SLA_due_date: string (nullable = true)\n",
      " |-- case_late: string (nullable = true)\n",
      " |-- num_days_late: double (nullable = true)\n",
      " |-- case_closed: string (nullable = true)\n",
      " |-- dept_division: string (nullable = true)\n",
      " |-- service_request_type: string (nullable = true)\n",
      " |-- SLA_days: double (nullable = true)\n",
      " |-- case_status: string (nullable = true)\n",
      " |-- source_id: string (nullable = true)\n",
      " |-- request_address: string (nullable = true)\n",
      " |-- council_district: integer (nullable = true)\n",
      "\n",
      "-RECORD 0------------------------------------\n",
      " case_id              | 1014127332           \n",
      " case_opened_date     | 1/1/18 0:42          \n",
      " case_closed_date     | 1/1/18 12:29         \n",
      " SLA_due_date         | 9/26/20 0:42         \n",
      " case_late            | NO                   \n",
      " num_days_late        | -998.5087616000001   \n",
      " case_closed          | YES                  \n",
      " dept_division        | Field Operations     \n",
      " service_request_type | Stray Animal         \n",
      " SLA_days             | 999.0                \n",
      " case_status          | Closed               \n",
      " source_id            | svcCRMLS             \n",
      " request_address      | 2315  EL PASO ST,... \n",
      " council_district     | 5                    \n",
      "only showing top 1 row\n",
      "\n"
     ]
    }
   ],
   "source": [
    "case.printSchema()\n",
    "case.show(1, vertical=True)"
   ]
  },
  {
   "cell_type": "markdown",
   "metadata": {},
   "source": [
    "```case_opened_date```, ```case_closed_date```, and ```SLA_due_date``` need to be converted into Timestamps.\n",
    "\n",
    "```case_late``` and ```case_closed``` need to be converted into booleans."
   ]
  },
  {
   "cell_type": "markdown",
   "metadata": {},
   "source": [
    "### Prepare data - ```dept```"
   ]
  },
  {
   "cell_type": "code",
   "execution_count": 8,
   "metadata": {},
   "outputs": [
    {
     "name": "stdout",
     "output_type": "stream",
     "text": [
      "+-------------------+-----+\n",
      "|dept_subject_to_SLA|count|\n",
      "+-------------------+-----+\n",
      "|                YES|   31|\n",
      "|                 NO|    8|\n",
      "+-------------------+-----+\n",
      "\n"
     ]
    }
   ],
   "source": [
    "# convert dept_subject_to_SLA to boolean\n",
    "\n",
    "dept.groupby('dept_subject_to_SLA').count().show()"
   ]
  },
  {
   "cell_type": "code",
   "execution_count": 9,
   "metadata": {},
   "outputs": [],
   "source": [
    "dept = dept.withColumn('dept_subject_to_SLA', expr(\"dept_subject_to_SLA == 'YES'\"))"
   ]
  },
  {
   "cell_type": "code",
   "execution_count": 10,
   "metadata": {},
   "outputs": [
    {
     "name": "stdout",
     "output_type": "stream",
     "text": [
      "+--------------------+--------------------+----------------------+-------------------+\n",
      "|       dept_division|           dept_name|standardized_dept_name|dept_subject_to_SLA|\n",
      "+--------------------+--------------------+----------------------+-------------------+\n",
      "|     311 Call Center|    Customer Service|      Customer Service|               true|\n",
      "|               Brush|Solid Waste Manag...|           Solid Waste|               true|\n",
      "|     Clean and Green|Parks and Recreation|    Parks & Recreation|               true|\n",
      "|Clean and Green N...|Parks and Recreation|    Parks & Recreation|               true|\n",
      "|    Code Enforcement|Code Enforcement ...|  DSD/Code Enforcement|               true|\n",
      "|Code Enforcement ...|Code Enforcement ...|  DSD/Code Enforcement|               true|\n",
      "|Code Enforcement ...|                null|  DSD/Code Enforcement|               true|\n",
      "|   Dangerous Premise|Code Enforcement ...|  DSD/Code Enforcement|               true|\n",
      "|Dangerous Premise...|Code Enforcement ...|  DSD/Code Enforcement|               true|\n",
      "|Director's Office...|Trans & Cap Impro...|  Trans & Cap Impro...|               true|\n",
      "|          District 1|        City Council|          City Council|              false|\n",
      "|         District 10|        City Council|          City Council|              false|\n",
      "+--------------------+--------------------+----------------------+-------------------+\n",
      "only showing top 12 rows\n",
      "\n"
     ]
    }
   ],
   "source": [
    "dept.show(12)"
   ]
  },
  {
   "cell_type": "markdown",
   "metadata": {},
   "source": [
    "### Prepare data - ```case```"
   ]
  },
  {
   "cell_type": "code",
   "execution_count": 11,
   "metadata": {},
   "outputs": [],
   "source": [
    "# rename SLA_due_date to case_due_date\n",
    "\n",
    "case = case.withColumnRenamed(\"SLA_due_date\", \"case_due_date\")"
   ]
  },
  {
   "cell_type": "code",
   "execution_count": 12,
   "metadata": {},
   "outputs": [
    {
     "name": "stdout",
     "output_type": "stream",
     "text": [
      "+---------+-----------+------+\n",
      "|case_late|case_closed| count|\n",
      "+---------+-----------+------+\n",
      "|       NO|        YES|735616|\n",
      "|      YES|        YES| 87978|\n",
      "|       NO|         NO| 11585|\n",
      "|      YES|         NO|  6525|\n",
      "+---------+-----------+------+\n",
      "\n"
     ]
    }
   ],
   "source": [
    "# convert case_late and case_closed to booleans\n",
    "\n",
    "case.groupby('case_late', 'case_closed').count().show()"
   ]
  },
  {
   "cell_type": "code",
   "execution_count": 13,
   "metadata": {},
   "outputs": [],
   "source": [
    "case = case.withColumn(\"case_late\", expr(\"case_late == 'YES'\"))\n",
    "case = case.withColumn(\"case_closed\", expr(\"case_closed == 'YES'\"))"
   ]
  },
  {
   "cell_type": "code",
   "execution_count": 14,
   "metadata": {},
   "outputs": [
    {
     "name": "stdout",
     "output_type": "stream",
     "text": [
      "root\n",
      " |-- case_id: integer (nullable = true)\n",
      " |-- case_opened_date: string (nullable = true)\n",
      " |-- case_closed_date: string (nullable = true)\n",
      " |-- case_due_date: string (nullable = true)\n",
      " |-- case_late: boolean (nullable = true)\n",
      " |-- num_days_late: double (nullable = true)\n",
      " |-- case_closed: boolean (nullable = true)\n",
      " |-- dept_division: string (nullable = true)\n",
      " |-- service_request_type: string (nullable = true)\n",
      " |-- SLA_days: double (nullable = true)\n",
      " |-- case_status: string (nullable = true)\n",
      " |-- source_id: string (nullable = true)\n",
      " |-- request_address: string (nullable = true)\n",
      " |-- council_district: integer (nullable = true)\n",
      "\n",
      "-RECORD 0------------------------------------\n",
      " case_id              | 1014127332           \n",
      " case_opened_date     | 1/1/18 0:42          \n",
      " case_closed_date     | 1/1/18 12:29         \n",
      " case_due_date        | 9/26/20 0:42         \n",
      " case_late            | false                \n",
      " num_days_late        | -998.5087616000001   \n",
      " case_closed          | true                 \n",
      " dept_division        | Field Operations     \n",
      " service_request_type | Stray Animal         \n",
      " SLA_days             | 999.0                \n",
      " case_status          | Closed               \n",
      " source_id            | svcCRMLS             \n",
      " request_address      | 2315  EL PASO ST,... \n",
      " council_district     | 5                    \n",
      "-RECORD 1------------------------------------\n",
      " case_id              | 1014127333           \n",
      " case_opened_date     | 1/1/18 0:46          \n",
      " case_closed_date     | 1/3/18 8:11          \n",
      " case_due_date        | 1/5/18 8:30          \n",
      " case_late            | false                \n",
      " num_days_late        | -2.0126041669999997  \n",
      " case_closed          | true                 \n",
      " dept_division        | Storm Water          \n",
      " service_request_type | Removal Of Obstru... \n",
      " SLA_days             | 4.322222222          \n",
      " case_status          | Closed               \n",
      " source_id            | svcCRMSS             \n",
      " request_address      | 2215  GOLIAD RD, ... \n",
      " council_district     | 3                    \n",
      "only showing top 2 rows\n",
      "\n"
     ]
    }
   ],
   "source": [
    "case.printSchema()\n",
    "case.show(2, vertical=True)"
   ]
  },
  {
   "cell_type": "markdown",
   "metadata": {},
   "source": [
    "**Convert the dates to timestamps**"
   ]
  },
  {
   "cell_type": "code",
   "execution_count": 15,
   "metadata": {},
   "outputs": [
    {
     "name": "stdout",
     "output_type": "stream",
     "text": [
      "+----------------+-----------------------------------------------+\n",
      "|case_opened_date|to_timestamp(`case_opened_date`, 'M/d/yy H:mm')|\n",
      "+----------------+-----------------------------------------------+\n",
      "|     1/1/18 0:42|                            2018-01-01 00:42:00|\n",
      "|     1/1/18 0:46|                            2018-01-01 00:46:00|\n",
      "|     1/1/18 0:48|                            2018-01-01 00:48:00|\n",
      "|     1/1/18 1:29|                            2018-01-01 01:29:00|\n",
      "|     1/1/18 1:34|                            2018-01-01 01:34:00|\n",
      "+----------------+-----------------------------------------------+\n",
      "only showing top 5 rows\n",
      "\n"
     ]
    }
   ],
   "source": [
    "fmt = \"M/d/yy H:mm\"\n",
    "\n",
    "case.select(\n",
    "    \"case_opened_date\",\n",
    "    to_timestamp(\"case_opened_date\", fmt)\n",
    ").show(5)"
   ]
  },
  {
   "cell_type": "code",
   "execution_count": 16,
   "metadata": {},
   "outputs": [],
   "source": [
    "case = case.withColumn(\"case_opened_date\", to_timestamp(\"case_opened_date\", fmt))\n",
    "case = case.withColumn(\"case_closed_date\", to_timestamp(\"case_closed_date\", fmt))\n",
    "case = case.withColumn(\"case_due_date\", to_timestamp(\"case_due_date\", fmt))"
   ]
  },
  {
   "cell_type": "code",
   "execution_count": 17,
   "metadata": {},
   "outputs": [
    {
     "name": "stdout",
     "output_type": "stream",
     "text": [
      "root\n",
      " |-- case_id: integer (nullable = true)\n",
      " |-- case_opened_date: timestamp (nullable = true)\n",
      " |-- case_closed_date: timestamp (nullable = true)\n",
      " |-- case_due_date: timestamp (nullable = true)\n",
      " |-- case_late: boolean (nullable = true)\n",
      " |-- num_days_late: double (nullable = true)\n",
      " |-- case_closed: boolean (nullable = true)\n",
      " |-- dept_division: string (nullable = true)\n",
      " |-- service_request_type: string (nullable = true)\n",
      " |-- SLA_days: double (nullable = true)\n",
      " |-- case_status: string (nullable = true)\n",
      " |-- source_id: string (nullable = true)\n",
      " |-- request_address: string (nullable = true)\n",
      " |-- council_district: integer (nullable = true)\n",
      "\n",
      "-RECORD 0------------------------------------\n",
      " case_id              | 1014127332           \n",
      " case_opened_date     | 2018-01-01 00:42:00  \n",
      " case_closed_date     | 2018-01-01 12:29:00  \n",
      " case_due_date        | 2020-09-26 00:42:00  \n",
      " case_late            | false                \n",
      " num_days_late        | -998.5087616000001   \n",
      " case_closed          | true                 \n",
      " dept_division        | Field Operations     \n",
      " service_request_type | Stray Animal         \n",
      " SLA_days             | 999.0                \n",
      " case_status          | Closed               \n",
      " source_id            | svcCRMLS             \n",
      " request_address      | 2315  EL PASO ST,... \n",
      " council_district     | 5                    \n",
      "-RECORD 1------------------------------------\n",
      " case_id              | 1014127333           \n",
      " case_opened_date     | 2018-01-01 00:46:00  \n",
      " case_closed_date     | 2018-01-03 08:11:00  \n",
      " case_due_date        | 2018-01-05 08:30:00  \n",
      " case_late            | false                \n",
      " num_days_late        | -2.0126041669999997  \n",
      " case_closed          | true                 \n",
      " dept_division        | Storm Water          \n",
      " service_request_type | Removal Of Obstru... \n",
      " SLA_days             | 4.322222222          \n",
      " case_status          | Closed               \n",
      " source_id            | svcCRMSS             \n",
      " request_address      | 2215  GOLIAD RD, ... \n",
      " council_district     | 3                    \n",
      "-RECORD 2------------------------------------\n",
      " case_id              | 1014127334           \n",
      " case_opened_date     | 2018-01-01 00:48:00  \n",
      " case_closed_date     | 2018-01-02 07:57:00  \n",
      " case_due_date        | 2018-01-05 08:30:00  \n",
      " case_late            | false                \n",
      " num_days_late        | -3.022337963         \n",
      " case_closed          | true                 \n",
      " dept_division        | Storm Water          \n",
      " service_request_type | Removal Of Obstru... \n",
      " SLA_days             | 4.320729167          \n",
      " case_status          | Closed               \n",
      " source_id            | svcCRMSS             \n",
      " request_address      | 102  PALFREY ST W... \n",
      " council_district     | 3                    \n",
      "only showing top 3 rows\n",
      "\n"
     ]
    }
   ],
   "source": [
    "case.printSchema()\n",
    "case.show(3, vertical=True)"
   ]
  },
  {
   "cell_type": "markdown",
   "metadata": {},
   "source": [
    "**Clean request_address**"
   ]
  },
  {
   "cell_type": "code",
   "execution_count": 18,
   "metadata": {},
   "outputs": [],
   "source": [
    "case = case.withColumn(\"request_address\", lower(trim(\"request_address\")))"
   ]
  },
  {
   "cell_type": "markdown",
   "metadata": {},
   "source": [
    "**Reformat council_district**"
   ]
  },
  {
   "cell_type": "code",
   "execution_count": 19,
   "metadata": {},
   "outputs": [],
   "source": [
    "case = case.withColumn('council_district', format_string('%04d', col('council_district')))"
   ]
  },
  {
   "cell_type": "markdown",
   "metadata": {},
   "source": [
    "**Add features**"
   ]
  },
  {
   "cell_type": "code",
   "execution_count": 20,
   "metadata": {},
   "outputs": [],
   "source": [
    "# Add case_age, days_to_close, and case_lifetime features\n",
    "\n",
    "case = case.withColumn(\"case_age\", datediff(current_timestamp(), \"case_opened_date\"))\n",
    "case = case.withColumn(\"days_to_close\", datediff(\"case_closed_date\", \"case_opened_date\"))\n",
    "case = case.withColumn(\"case_lifetime\", when(col(\"case_closed\"), col(\"days_to_close\")).otherwise(col(\"case_age\")))"
   ]
  },
  {
   "cell_type": "code",
   "execution_count": 21,
   "metadata": {},
   "outputs": [],
   "source": [
    "# Add zip code\n",
    "\n",
    "case = case.withColumn(\"zipcode\", regexp_extract(\"request_address\", r\"(\\d+)$\", 1))"
   ]
  },
  {
   "cell_type": "code",
   "execution_count": 22,
   "metadata": {},
   "outputs": [
    {
     "name": "stdout",
     "output_type": "stream",
     "text": [
      "-RECORD 0------------------------------------\n",
      " case_id              | 1014127332           \n",
      " case_opened_date     | 2018-01-01 00:42:00  \n",
      " case_closed_date     | 2018-01-01 12:29:00  \n",
      " case_due_date        | 2020-09-26 00:42:00  \n",
      " case_late            | false                \n",
      " num_days_late        | -998.5087616000001   \n",
      " case_closed          | true                 \n",
      " dept_division        | Field Operations     \n",
      " service_request_type | Stray Animal         \n",
      " SLA_days             | 999.0                \n",
      " case_status          | Closed               \n",
      " source_id            | svcCRMLS             \n",
      " request_address      | 2315  el paso st,... \n",
      " council_district     | 0005                 \n",
      " case_age             | 1065                 \n",
      " days_to_close        | 0                    \n",
      " case_lifetime        | 0                    \n",
      " zipcode              | 78207                \n",
      "-RECORD 1------------------------------------\n",
      " case_id              | 1014127333           \n",
      " case_opened_date     | 2018-01-01 00:46:00  \n",
      " case_closed_date     | 2018-01-03 08:11:00  \n",
      " case_due_date        | 2018-01-05 08:30:00  \n",
      " case_late            | false                \n",
      " num_days_late        | -2.0126041669999997  \n",
      " case_closed          | true                 \n",
      " dept_division        | Storm Water          \n",
      " service_request_type | Removal Of Obstru... \n",
      " SLA_days             | 4.322222222          \n",
      " case_status          | Closed               \n",
      " source_id            | svcCRMSS             \n",
      " request_address      | 2215  goliad rd, ... \n",
      " council_district     | 0003                 \n",
      " case_age             | 1065                 \n",
      " days_to_close        | 2                    \n",
      " case_lifetime        | 2                    \n",
      " zipcode              | 78223                \n",
      "-RECORD 2------------------------------------\n",
      " case_id              | 1014127334           \n",
      " case_opened_date     | 2018-01-01 00:48:00  \n",
      " case_closed_date     | 2018-01-02 07:57:00  \n",
      " case_due_date        | 2018-01-05 08:30:00  \n",
      " case_late            | false                \n",
      " num_days_late        | -3.022337963         \n",
      " case_closed          | true                 \n",
      " dept_division        | Storm Water          \n",
      " service_request_type | Removal Of Obstru... \n",
      " SLA_days             | 4.320729167          \n",
      " case_status          | Closed               \n",
      " source_id            | svcCRMSS             \n",
      " request_address      | 102  palfrey st w... \n",
      " council_district     | 0003                 \n",
      " case_age             | 1065                 \n",
      " days_to_close        | 1                    \n",
      " case_lifetime        | 1                    \n",
      " zipcode              | 78223                \n",
      "only showing top 3 rows\n",
      "\n"
     ]
    }
   ],
   "source": [
    "case.show(3, vertical=True)"
   ]
  },
  {
   "cell_type": "markdown",
   "metadata": {},
   "source": [
    "**Join dataframes**"
   ]
  },
  {
   "cell_type": "code",
   "execution_count": 23,
   "metadata": {},
   "outputs": [],
   "source": [
    "case = case.join(dept, 'dept_division', 'left').join(source, 'source_id', 'left')"
   ]
  },
  {
   "cell_type": "markdown",
   "metadata": {},
   "source": [
    "**Train, validate, test split**"
   ]
  },
  {
   "cell_type": "code",
   "execution_count": 24,
   "metadata": {},
   "outputs": [],
   "source": [
    "train, test = case.randomSplit([.8, .2], seed=666)\n",
    "train, validate, test = case.randomSplit([.7, .15, .15], seed=666)"
   ]
  },
  {
   "cell_type": "code",
   "execution_count": 25,
   "metadata": {
    "scrolled": false
   },
   "outputs": [
    {
     "name": "stdout",
     "output_type": "stream",
     "text": [
      "-RECORD 0--------------------------------------\n",
      " source_id              | 100137               \n",
      " dept_division          | 311 Call Center      \n",
      " case_id                | 1014263399           \n",
      " case_opened_date       | 2018-02-21 15:36:00  \n",
      " case_closed_date       | 2018-02-21 15:38:00  \n",
      " case_due_date          | 2018-03-02 15:36:00  \n",
      " case_late              | false                \n",
      " num_days_late          | -8.998854167000001   \n",
      " case_closed            | true                 \n",
      " service_request_type   | Compliment           \n",
      " SLA_days               | 9.0                  \n",
      " case_status            | Closed               \n",
      " request_address        | 927  donaldson av... \n",
      " council_district       | 0007                 \n",
      " case_age               | 1014                 \n",
      " days_to_close          | 0                    \n",
      " case_lifetime          | 0                    \n",
      " zipcode                | 78228                \n",
      " dept_name              | Customer Service     \n",
      " standardized_dept_name | Customer Service     \n",
      " dept_subject_to_SLA    | true                 \n",
      " source_username        | Merlene Blodgett     \n",
      "-RECORD 1--------------------------------------\n",
      " source_id              | 100137               \n",
      " dept_division          | 311 Call Center      \n",
      " case_id                | 1014267826           \n",
      " case_opened_date       | 2018-02-23 10:36:00  \n",
      " case_closed_date       | 2018-02-23 10:37:00  \n",
      " case_due_date          | 2018-03-06 10:36:00  \n",
      " case_late              | false                \n",
      " num_days_late          | -10.99946759         \n",
      " case_closed            | true                 \n",
      " service_request_type   | Compliment           \n",
      " SLA_days               | 11.0                 \n",
      " case_status            | Closed               \n",
      " request_address        | evans rd and ston... \n",
      " council_district       | 0009                 \n",
      " case_age               | 1012                 \n",
      " days_to_close          | 0                    \n",
      " case_lifetime          | 0                    \n",
      " zipcode                |                      \n",
      " dept_name              | Customer Service     \n",
      " standardized_dept_name | Customer Service     \n",
      " dept_subject_to_SLA    | true                 \n",
      " source_username        | Merlene Blodgett     \n",
      "-RECORD 2--------------------------------------\n",
      " source_id              | 100137               \n",
      " dept_division          | 311 Call Center      \n",
      " case_id                | 1014292041           \n",
      " case_opened_date       | 2018-03-03 15:02:00  \n",
      " case_closed_date       | 2018-03-19 16:39:00  \n",
      " case_due_date          | 2018-03-12 08:30:00  \n",
      " case_late              | true                 \n",
      " num_days_late          | 7.340104167000001    \n",
      " case_closed            | true                 \n",
      " service_request_type   | Complaint            \n",
      " SLA_days               | 8.727453704          \n",
      " case_status            | Closed               \n",
      " request_address        | 4622  hackberry s... \n",
      " council_district       | 0003                 \n",
      " case_age               | 1004                 \n",
      " days_to_close          | 16                   \n",
      " case_lifetime          | 16                   \n",
      " zipcode                | 78223                \n",
      " dept_name              | Customer Service     \n",
      " standardized_dept_name | Customer Service     \n",
      " dept_subject_to_SLA    | true                 \n",
      " source_username        | Merlene Blodgett     \n",
      "-RECORD 3--------------------------------------\n",
      " source_id              | 100137               \n",
      " dept_division          | Code Enforcement     \n",
      " case_id                | 1014158497           \n",
      " case_opened_date       | 2018-01-13 12:20:00  \n",
      " case_closed_date       | 2018-02-15 09:43:00  \n",
      " case_due_date          | 2018-05-23 08:30:00  \n",
      " case_late              | false                \n",
      " num_days_late          | -96.94896991         \n",
      " case_closed            | true                 \n",
      " service_request_type   | Minimum Housing-T... \n",
      " SLA_days               | 129.8401852          \n",
      " case_status            | Closed               \n",
      " request_address        | 204  dewey place ... \n",
      " council_district       | 0001                 \n",
      " case_age               | 1053                 \n",
      " days_to_close          | 33                   \n",
      " case_lifetime          | 33                   \n",
      " zipcode                | 78212                \n",
      " dept_name              | Code Enforcement ... \n",
      " standardized_dept_name | DSD/Code Enforcement \n",
      " dept_subject_to_SLA    | true                 \n",
      " source_username        | Merlene Blodgett     \n",
      "-RECORD 4--------------------------------------\n",
      " source_id              | 100137               \n",
      " dept_division          | Code Enforcement     \n",
      " case_id                | 1014185438           \n",
      " case_opened_date       | 2018-01-23 08:22:00  \n",
      " case_closed_date       | 2018-01-24 17:06:00  \n",
      " case_due_date          | 2018-02-06 08:30:00  \n",
      " case_late              | false                \n",
      " num_days_late          | -12.64164352         \n",
      " case_closed            | true                 \n",
      " service_request_type   | Graffiti-Private ... \n",
      " SLA_days               | 14.0053125           \n",
      " case_status            | Closed               \n",
      " request_address        | colorado st s and... \n",
      " council_district       | 0005                 \n",
      " case_age               | 1043                 \n",
      " days_to_close          | 1                    \n",
      " case_lifetime          | 1                    \n",
      " zipcode                |                      \n",
      " dept_name              | Code Enforcement ... \n",
      " standardized_dept_name | DSD/Code Enforcement \n",
      " dept_subject_to_SLA    | true                 \n",
      " source_username        | Merlene Blodgett     \n",
      "only showing top 5 rows\n",
      "\n"
     ]
    }
   ],
   "source": [
    "train.show(5, vertical=True)"
   ]
  },
  {
   "cell_type": "code",
   "execution_count": 26,
   "metadata": {},
   "outputs": [
    {
     "name": "stdout",
     "output_type": "stream",
     "text": [
      "train:  598797 | validate:  128204 | test:  128268\n"
     ]
    }
   ],
   "source": [
    "print('train: ', train.count(), '| validate: ', validate.count(), '| test: ', test.count())"
   ]
  },
  {
   "cell_type": "markdown",
   "metadata": {},
   "source": [
    "### Exercises Continued"
   ]
  },
  {
   "cell_type": "markdown",
   "metadata": {},
   "source": [
    "1. How old is the latest (in terms of days past SLA) currently open issue? How long has the oldest (in terms of days since opened) currently opened issue been open?\n",
    "\n",
    "2. How many Stray Animal cases are there?\n",
    "\n",
    "3. How many service requests that are assigned to the Field Operations department (```dept_division```) are not classified as \"Officer Standby\" request type (```service_request_type```)?\n",
    "\n",
    "4. Convert the ```council_district``` column to a string column.\n",
    "\n",
    "5. Extract the year from the ```case_closed_date column```.\n",
    "\n",
    "6. Convert ```num_days_late``` from days to hours in new columns ```num_hours_late```."
   ]
  },
  {
   "cell_type": "code",
   "execution_count": 27,
   "metadata": {},
   "outputs": [
    {
     "name": "stdout",
     "output_type": "stream",
     "text": [
      "+-------------+\n",
      "|days_past_due|\n",
      "+-------------+\n",
      "|         1414|\n",
      "|         1414|\n",
      "|         1414|\n",
      "|         1413|\n",
      "|         1411|\n",
      "|         1407|\n",
      "|         1407|\n",
      "|         1406|\n",
      "|         1405|\n",
      "|         1405|\n",
      "|         1401|\n",
      "|         1400|\n",
      "|         1400|\n",
      "|         1400|\n",
      "|         1397|\n",
      "+-------------+\n",
      "\n"
     ]
    }
   ],
   "source": [
    "# How old is the latest (in terms of days past SLA) currently open issue?\n",
    "# How long has the oldest (in terms of days since opened) currently opened issue been open?\n",
    "\n",
    "case.createOrReplaceTempView('df')\n",
    "\n",
    "spark.sql('''\n",
    "SELECT DATEDIFF(current_timestamp, case_due_date) AS days_past_due\n",
    "FROM df\n",
    "WHERE NOT case_closed\n",
    "ORDER BY days_past_due DESC\n",
    "LIMIT 15\n",
    "''').show()"
   ]
  },
  {
   "cell_type": "code",
   "execution_count": 28,
   "metadata": {},
   "outputs": [
    {
     "data": {
      "text/plain": [
       "27361"
      ]
     },
     "execution_count": 28,
     "metadata": {},
     "output_type": "execute_result"
    }
   ],
   "source": [
    "# How many Stray Animal cases are there?\n",
    "case.filter(case.service_request_type == 'Stray Animal').count()"
   ]
  },
  {
   "cell_type": "code",
   "execution_count": 29,
   "metadata": {},
   "outputs": [
    {
     "data": {
      "text/plain": [
       "116295"
      ]
     },
     "execution_count": 29,
     "metadata": {},
     "output_type": "execute_result"
    }
   ],
   "source": [
    "# How many service requests that are assigned to the Field Operations department (dept_division)\n",
    "# are not classified as \"Officer Standby\" request type (service_request_type)?\n",
    "\n",
    "case.filter(case.dept_division == 'Field Operations').filter(case.service_request_type != 'Officer Standby').count()"
   ]
  },
  {
   "cell_type": "code",
   "execution_count": 30,
   "metadata": {},
   "outputs": [
    {
     "name": "stdout",
     "output_type": "stream",
     "text": [
      "root\n",
      " |-- source_id: string (nullable = true)\n",
      " |-- dept_division: string (nullable = true)\n",
      " |-- case_id: integer (nullable = true)\n",
      " |-- case_opened_date: timestamp (nullable = true)\n",
      " |-- case_closed_date: timestamp (nullable = true)\n",
      " |-- case_due_date: timestamp (nullable = true)\n",
      " |-- case_late: boolean (nullable = true)\n",
      " |-- num_days_late: double (nullable = true)\n",
      " |-- case_closed: boolean (nullable = true)\n",
      " |-- service_request_type: string (nullable = true)\n",
      " |-- SLA_days: double (nullable = true)\n",
      " |-- case_status: string (nullable = true)\n",
      " |-- request_address: string (nullable = true)\n",
      " |-- council_district: string (nullable = false)\n",
      " |-- case_age: integer (nullable = true)\n",
      " |-- days_to_close: integer (nullable = true)\n",
      " |-- case_lifetime: integer (nullable = true)\n",
      " |-- zipcode: string (nullable = true)\n",
      " |-- dept_name: string (nullable = true)\n",
      " |-- standardized_dept_name: string (nullable = true)\n",
      " |-- dept_subject_to_SLA: boolean (nullable = true)\n",
      " |-- source_username: string (nullable = true)\n",
      "\n"
     ]
    }
   ],
   "source": [
    "# Convert the council_district column to a string column.\n",
    "\n",
    "case.printSchema()\n",
    "\n",
    "# It has already been converted so I'll leave it as is now."
   ]
  },
  {
   "cell_type": "code",
   "execution_count": 31,
   "metadata": {},
   "outputs": [
    {
     "name": "stdout",
     "output_type": "stream",
     "text": [
      "+----------------------+\n",
      "|year(case_closed_date)|\n",
      "+----------------------+\n",
      "|                  2018|\n",
      "|                  2018|\n",
      "|                  2018|\n",
      "|                  2018|\n",
      "|                  2018|\n",
      "|                  2018|\n",
      "|                  2018|\n",
      "|                  2018|\n",
      "|                  2018|\n",
      "|                  2018|\n",
      "|                  2018|\n",
      "|                  2018|\n",
      "|                  2018|\n",
      "|                  2018|\n",
      "|                  2018|\n",
      "|                  2018|\n",
      "|                  2018|\n",
      "|                  2018|\n",
      "|                  2018|\n",
      "|                  2018|\n",
      "+----------------------+\n",
      "only showing top 20 rows\n",
      "\n"
     ]
    }
   ],
   "source": [
    "# Extract the year from the case_closed_date column.\n",
    "\n",
    "year = case.select(year('case_closed_date'))\n",
    "year.show()"
   ]
  },
  {
   "cell_type": "code",
   "execution_count": 33,
   "metadata": {},
   "outputs": [
    {
     "name": "stdout",
     "output_type": "stream",
     "text": [
      "+-------------------+-------------------+\n",
      "|      num_days_late|     num_hours_late|\n",
      "+-------------------+-------------------+\n",
      "| -998.5087616000001|     -23964.2102784|\n",
      "|-2.0126041669999997|-48.302500007999996|\n",
      "|       -3.022337963|      -72.536111112|\n",
      "|       -15.01148148|      -360.27555552|\n",
      "|0.37216435200000003|  8.931944448000001|\n",
      "|       -29.74398148| -713.8555555199999|\n",
      "|       -14.70673611|      -352.96166664|\n",
      "|       -14.70662037|      -352.95888888|\n",
      "|       -14.70662037|      -352.95888888|\n",
      "|       -14.70649306|      -352.95583344|\n",
      "|       -14.70649306|      -352.95583344|\n",
      "|       -14.70636574|      -352.95277776|\n",
      "|          -14.70625|-352.95000000000005|\n",
      "|       -14.70636574|      -352.95277776|\n",
      "|       -14.70623843|-352.94972232000003|\n",
      "|-14.705891199999998|-352.94138879999997|\n",
      "|       -14.70600694|      -352.94416656|\n",
      "|       -14.70576389|      -352.93833336|\n",
      "|       -14.70576389|      -352.93833336|\n",
      "|       -14.70564815|       -352.9355556|\n",
      "+-------------------+-------------------+\n",
      "only showing top 20 rows\n",
      "\n"
     ]
    }
   ],
   "source": [
    "# Convert num_days_late from days to hours in new columns num_hours_late.\n",
    "\n",
    "(\n",
    "    case.withColumn('num_hours_late', case.num_days_late * 24)\n",
    "    .select('num_days_late', 'num_hours_late')\n",
    "    .show()\n",
    ")"
   ]
  },
  {
   "cell_type": "markdown",
   "metadata": {},
   "source": [
    "### Exercises Continued"
   ]
  },
  {
   "cell_type": "markdown",
   "metadata": {},
   "source": [
    "7. Join the case data with the source and department data.\n",
    "\n",
    "8. Are there any cases that do not have a request source?\n",
    "\n",
    "9. What are the top 10 service request types in terms of number of requests?\n",
    "\n",
    "10. What are the top 10 service request types in terms of average days late?\n",
    "\n",
    "11. Does number of days late depend on department?\n",
    "\n",
    "12. How do number of days late depend on department and request type?"
   ]
  },
  {
   "cell_type": "code",
   "execution_count": 34,
   "metadata": {},
   "outputs": [
    {
     "name": "stdout",
     "output_type": "stream",
     "text": [
      "-RECORD 0--------------------------------------\n",
      " source_id              | svcCRMLS             \n",
      " dept_division          | Field Operations     \n",
      " case_id                | 1014127332           \n",
      " case_opened_date       | 2018-01-01 00:42:00  \n",
      " case_closed_date       | 2018-01-01 12:29:00  \n",
      " case_due_date          | 2020-09-26 00:42:00  \n",
      " case_late              | false                \n",
      " num_days_late          | -998.5087616000001   \n",
      " case_closed            | true                 \n",
      " service_request_type   | Stray Animal         \n",
      " SLA_days               | 999.0                \n",
      " case_status            | Closed               \n",
      " request_address        | 2315  el paso st,... \n",
      " council_district       | 0005                 \n",
      " case_age               | 1065                 \n",
      " days_to_close          | 0                    \n",
      " case_lifetime          | 0                    \n",
      " zipcode                | 78207                \n",
      " dept_name              | Animal Care Services \n",
      " standardized_dept_name | Animal Care Services \n",
      " dept_subject_to_SLA    | true                 \n",
      " source_username        | svcCRMLS             \n",
      "only showing top 1 row\n",
      "\n"
     ]
    }
   ],
   "source": [
    "# Join the case data with the source and department data.\n",
    "\n",
    "case.show(1, vertical=True)\n",
    "\n",
    "# It's already been joined."
   ]
  },
  {
   "cell_type": "code",
   "execution_count": 35,
   "metadata": {},
   "outputs": [
    {
     "name": "stdout",
     "output_type": "stream",
     "text": [
      "(0 rows)\n",
      "\n"
     ]
    }
   ],
   "source": [
    "# Are there any cases that do not have a request source?\n",
    "\n",
    "case.filter(col('source_id').isNull()).show(vertical=True)\n",
    "\n",
    "# This is the Spark df equivalent of .isnull().sum()"
   ]
  },
  {
   "cell_type": "code",
   "execution_count": 36,
   "metadata": {},
   "outputs": [
    {
     "name": "stdout",
     "output_type": "stream",
     "text": [
      "+--------------------------------+-----+\n",
      "|service_request_type            |count|\n",
      "+--------------------------------+-----+\n",
      "|No Pickup                       |89210|\n",
      "|Overgrown Yard/Trash            |66403|\n",
      "|Bandit Signs                    |32968|\n",
      "|Damaged Cart                    |31163|\n",
      "|Front Or Side Yard Parking      |28920|\n",
      "|Stray Animal                    |27361|\n",
      "|Aggressive Animal(Non-Critical) |25492|\n",
      "|Cart Exchange Request           |22608|\n",
      "|Junk Vehicle On Private Property|21649|\n",
      "|Pot Hole Repair                 |20827|\n",
      "+--------------------------------+-----+\n",
      "only showing top 10 rows\n",
      "\n"
     ]
    }
   ],
   "source": [
    "# What are the top 10 service request types in terms of number of requests?\n",
    "\n",
    "case.groupby('service_request_type').count().sort(col('count').desc()).show(10, truncate=False)"
   ]
  },
  {
   "cell_type": "code",
   "execution_count": 37,
   "metadata": {},
   "outputs": [
    {
     "name": "stdout",
     "output_type": "stream",
     "text": [
      "+--------------------------------------+------------------+-------+\n",
      "|service_request_type                  |n_days_late       |n_cases|\n",
      "+--------------------------------------+------------------+-------+\n",
      "|Zoning: Recycle Yard                  |210.89201994318182|132    |\n",
      "|Zoning: Junk Yards                    |200.20517608494276|262    |\n",
      "|Structure/Housing Maintenance         |190.20707698509807|51     |\n",
      "|Donation Container Enforcement        |171.09115313942615|122    |\n",
      "|Storage of Used Mattress              |163.96812829714287|7      |\n",
      "|Labeling for Used Mattress            |162.43032902285717|7      |\n",
      "|Record Keeping of Used Mattresses     |153.99724039428568|7      |\n",
      "|Signage Requied for Sale of Used Mattr|151.63868055333333|12     |\n",
      "|Traffic Signal Graffiti               |137.64583330000002|4      |\n",
      "|License Requied Used Mattress Sales   |128.79828704142858|7      |\n",
      "+--------------------------------------+------------------+-------+\n",
      "only showing top 10 rows\n",
      "\n"
     ]
    }
   ],
   "source": [
    "# What are the top 10 service request types in terms of average days late?\n",
    "\n",
    "case.where('case_late').groupBy('service_request_type').agg(mean('num_days_late').alias('n_days_late'), count('*').alias('n_cases')).sort(desc('n_days_late')).show(10, truncate=False)"
   ]
  },
  {
   "cell_type": "code",
   "execution_count": 38,
   "metadata": {},
   "outputs": [
    {
     "name": "stdout",
     "output_type": "stream",
     "text": [
      "+-------------------------+---------+------------+\n",
      "|dept_name                |days_late|n_cases_late|\n",
      "+-------------------------+---------+------------+\n",
      "|Metro Health             |6.5      |854         |\n",
      "|Solid Waste Management   |7.1      |33729       |\n",
      "|Trans & Cap Improvements |10.7     |5529        |\n",
      "|Parks and Recreation     |22.4     |3810        |\n",
      "|Animal Care Services     |23.4     |23751       |\n",
      "|Code Enforcement Services|48.1     |25467       |\n",
      "|Development Services     |67.2     |840         |\n",
      "|Customer Service         |88.2     |2035        |\n",
      "|null                     |210.9    |132         |\n",
      "+-------------------------+---------+------------+\n",
      "\n"
     ]
    }
   ],
   "source": [
    "# Does number of days late depend on department?\n",
    "\n",
    "case.filter('case_late').groupby('dept_name').agg(mean('num_days_late').alias('days_late'), count('num_days_late').alias('n_cases_late')).sort('days_late').withColumn('days_late', round(col('days_late'), 1)).show(truncate=False)"
   ]
  },
  {
   "cell_type": "code",
   "execution_count": 39,
   "metadata": {},
   "outputs": [
    {
     "name": "stdout",
     "output_type": "stream",
     "text": [
      "+------------------------+--------------------------------------+---------+-------+\n",
      "|standardized_dept_name  |service_request_type                  |days_late|n_cases|\n",
      "+------------------------+--------------------------------------+---------+-------+\n",
      "|City Council            |Request for Research/Information      |null     |5      |\n",
      "|Trans & Cap Improvements|Engineering Design                    |-1413.8  |1      |\n",
      "|Trans & Cap Improvements|Signal Timing Modification By Engineer|-1352.0  |22     |\n",
      "|Animal Care Services    |Stray Animal                          |-998.8   |27346  |\n",
      "|Parks & Recreation      |Major Park Improvement Install        |-278.3   |271    |\n",
      "|Trans & Cap Improvements|Sidewalk Cost Sharing Program         |-177.8   |131    |\n",
      "|DSD/Code Enforcement    |Multi Tenant Exterior                 |-135.7   |84     |\n",
      "|DSD/Code Enforcement    |CPS Energy Towers                     |-129.8   |511    |\n",
      "|DSD/Code Enforcement    |CPS Energy Wood Poles                 |-129.3   |3501   |\n",
      "|DSD/Code Enforcement    |CPS Energy Metal Poles                |-129.2   |893    |\n",
      "|DSD/Code Enforcement    |Multi Tenant Interior                 |-125.1   |172    |\n",
      "|DSD/Code Enforcement    |Temporary Obstruction                 |-121.3   |128    |\n",
      "|Trans & Cap Improvements|Manhole Sunken/Raised                 |-120.5   |553    |\n",
      "|DSD/Code Enforcement    |Swim. Pool Inspect: Residential       |-117.5   |821    |\n",
      "|DSD/Code Enforcement    |Zoning: Mobile Homes                  |-116.5   |208    |\n",
      "|DSD/Code Enforcement    |Water No Services                     |-114.8   |686    |\n",
      "|DSD/Code Enforcement    |Zoning Business in Resident Area      |-114.4   |2643   |\n",
      "|DSD/Code Enforcement    |Wasting Water (Leaks)                 |-114.2   |626    |\n",
      "|DSD/Code Enforcement    |Low Hanging Limbs on Streets/Sidewalk |-113.2   |3908   |\n",
      "|Trans & Cap Improvements|Base/Pavement Repair                  |-112.6   |5215   |\n",
      "|DSD/Code Enforcement    |Zoning: Multi-Family In Single        |-112.1   |718    |\n",
      "|DSD/Code Enforcement    |Zoning: Outside Storage               |-109.8   |353    |\n",
      "|DSD/Code Enforcement    |Minimum Housing-Owner Occupied        |-109.2   |8157   |\n",
      "|DSD/Code Enforcement    |Minimum Housing-Tenant Occupied       |-108.8   |7363   |\n",
      "|DSD/Code Enforcement    |Zoning: Illumination                  |-108.1   |137    |\n",
      "+------------------------+--------------------------------------+---------+-------+\n",
      "only showing top 25 rows\n",
      "\n"
     ]
    }
   ],
   "source": [
    "# How do number of days late depend on department and request type?\n",
    "\n",
    "case.filter(\"case_closed\").groupby(\"standardized_dept_name\", \"service_request_type\").agg(avg(\"num_days_late\").alias(\"days_late\"), count(\"*\").alias(\"n_cases\")).withColumn(\"days_late\", round(col(\"days_late\"), 1)).sort(asc(\"days_late\")).show(25, truncate=False)"
   ]
  }
 ],
 "metadata": {
  "kernelspec": {
   "display_name": "Python 3",
   "language": "python",
   "name": "python3"
  },
  "language_info": {
   "codemirror_mode": {
    "name": "ipython",
    "version": 3
   },
   "file_extension": ".py",
   "mimetype": "text/x-python",
   "name": "python",
   "nbconvert_exporter": "python",
   "pygments_lexer": "ipython3",
   "version": "3.8.3"
  }
 },
 "nbformat": 4,
 "nbformat_minor": 4
}
